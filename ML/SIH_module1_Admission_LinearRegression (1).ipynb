{
  "nbformat": 4,
  "nbformat_minor": 0,
  "metadata": {
    "colab": {
      "name": "SIH_module1_Admission_LinearRegression.ipynb",
      "provenance": [],
      "collapsed_sections": []
    },
    "kernelspec": {
      "name": "python3",
      "display_name": "Python 3"
    }
  },
  "cells": [
    {
      "cell_type": "markdown",
      "metadata": {
        "id": "C2Nqtj5Zr1Qa"
      },
      "source": [
        "# *ADMISSION PREDICTION*"
      ]
    },
    {
      "cell_type": "code",
      "metadata": {
        "id": "2ClwXSCfFH8j",
        "outputId": "122739b4-1221-4a76-b73c-212dd8a8993f",
        "colab": {
          "base_uri": "https://localhost:8080/",
          "height": 195
        }
      },
      "source": [
        "#import packages\n",
        "import pandas as pd\n",
        "import numpy as np\n",
        "\n",
        "#to plot within notebook\n",
        "import matplotlib.pyplot as plt\n",
        "%matplotlib inline\n",
        "\n",
        "#setting figure size\n",
        "from matplotlib.pylab import rcParams\n",
        "rcParams['figure.figsize'] = 20,10\n",
        "\n",
        "#read the file\n",
        "df = pd.read_csv('/content/college admission prediction.csv')\n",
        "\n",
        "#print the head\n",
        "df.head()"
      ],
      "execution_count": null,
      "outputs": [
        {
          "output_type": "execute_result",
          "data": {
            "text/html": [
              "<div>\n",
              "<style scoped>\n",
              "    .dataframe tbody tr th:only-of-type {\n",
              "        vertical-align: middle;\n",
              "    }\n",
              "\n",
              "    .dataframe tbody tr th {\n",
              "        vertical-align: top;\n",
              "    }\n",
              "\n",
              "    .dataframe thead th {\n",
              "        text-align: right;\n",
              "    }\n",
              "</style>\n",
              "<table border=\"1\" class=\"dataframe\">\n",
              "  <thead>\n",
              "    <tr style=\"text-align: right;\">\n",
              "      <th></th>\n",
              "      <th>Year</th>\n",
              "      <th>10th Marks</th>\n",
              "      <th>12th Marks</th>\n",
              "      <th>12th Division</th>\n",
              "      <th>AIEEE Rank</th>\n",
              "      <th>College</th>\n",
              "    </tr>\n",
              "  </thead>\n",
              "  <tbody>\n",
              "    <tr>\n",
              "      <th>0</th>\n",
              "      <td>2015</td>\n",
              "      <td>95</td>\n",
              "      <td>92</td>\n",
              "      <td>2</td>\n",
              "      <td>100</td>\n",
              "      <td>IIT delhi</td>\n",
              "    </tr>\n",
              "    <tr>\n",
              "      <th>1</th>\n",
              "      <td>2015</td>\n",
              "      <td>75</td>\n",
              "      <td>88</td>\n",
              "      <td>3</td>\n",
              "      <td>1023</td>\n",
              "      <td>VIT vellore</td>\n",
              "    </tr>\n",
              "    <tr>\n",
              "      <th>2</th>\n",
              "      <td>2015</td>\n",
              "      <td>83</td>\n",
              "      <td>84</td>\n",
              "      <td>6</td>\n",
              "      <td>2935</td>\n",
              "      <td>Ahemedabad IT</td>\n",
              "    </tr>\n",
              "    <tr>\n",
              "      <th>3</th>\n",
              "      <td>2015</td>\n",
              "      <td>75</td>\n",
              "      <td>91</td>\n",
              "      <td>8</td>\n",
              "      <td>5647</td>\n",
              "      <td>University college of ENGG</td>\n",
              "    </tr>\n",
              "    <tr>\n",
              "      <th>4</th>\n",
              "      <td>2015</td>\n",
              "      <td>94</td>\n",
              "      <td>94</td>\n",
              "      <td>9</td>\n",
              "      <td>3564</td>\n",
              "      <td>SRMIST chennai</td>\n",
              "    </tr>\n",
              "  </tbody>\n",
              "</table>\n",
              "</div>"
            ],
            "text/plain": [
              "   Year  10th Marks  ...  AIEEE Rank                     College\n",
              "0  2015          95  ...         100                   IIT delhi\n",
              "1  2015          75  ...        1023                 VIT vellore\n",
              "2  2015          83  ...        2935               Ahemedabad IT\n",
              "3  2015          75  ...        5647  University college of ENGG\n",
              "4  2015          94  ...        3564              SRMIST chennai\n",
              "\n",
              "[5 rows x 6 columns]"
            ]
          },
          "metadata": {
            "tags": []
          },
          "execution_count": 1
        }
      ]
    },
    {
      "cell_type": "code",
      "metadata": {
        "id": "72VDhHpmYoAI",
        "outputId": "efcdb6f8-122b-4d89-b1d6-f960b680c1e1",
        "colab": {
          "base_uri": "https://localhost:8080/",
          "height": 346
        }
      },
      "source": [
        "college=np.unique(df['College'])\n",
        "print(college)\n",
        "clg_code=[]\n",
        "for i in range(len(college)):\n",
        "    clg_code.append(i+1)\n",
        "# clg_code\n",
        "df['College']=df['College'].replace(college,clg_code)\n",
        "bak_college=np.array(df['College'])\n",
        "df.head()"
      ],
      "execution_count": null,
      "outputs": [
        {
          "output_type": "stream",
          "text": [
            "['Ahemedabad IT' 'BIT Mesra' 'BITS pilani' 'BMS college of ENGG'\n",
            " 'DTU delhi' 'HBUT kanpur' 'IIEST shibpur' 'IIIT hydrabad' 'IIT Bombay'\n",
            " 'IIT bhilai' 'IIT delhi' 'IIT goa' 'IIT guwahati' 'IIT hydrabad'\n",
            " 'IIT indore' 'IIT jammu' 'IIT jodhpur' 'IIT kanpur' 'IIT kharagpur'\n",
            " 'IIT mandi' 'IIT palakkad' 'IIT ropar' 'IIT tirupati'\n",
            " 'Jadavpur Univversity' 'KLEF hydrabad' 'MNIT jaipur' 'MNNIT allahabad'\n",
            " 'MSIT' 'Manipal IT' 'NIT trichy' 'NIT warangal' 'NMIMS'\n",
            " 'Netaji Subhas IT' 'S O A  university' 'SRMIST chennai'\n",
            " 'SSN college of ENGG' 'University college of ENGG' 'VIT vellore']\n"
          ],
          "name": "stdout"
        },
        {
          "output_type": "execute_result",
          "data": {
            "text/html": [
              "<div>\n",
              "<style scoped>\n",
              "    .dataframe tbody tr th:only-of-type {\n",
              "        vertical-align: middle;\n",
              "    }\n",
              "\n",
              "    .dataframe tbody tr th {\n",
              "        vertical-align: top;\n",
              "    }\n",
              "\n",
              "    .dataframe thead th {\n",
              "        text-align: right;\n",
              "    }\n",
              "</style>\n",
              "<table border=\"1\" class=\"dataframe\">\n",
              "  <thead>\n",
              "    <tr style=\"text-align: right;\">\n",
              "      <th></th>\n",
              "      <th>Year</th>\n",
              "      <th>10th Marks</th>\n",
              "      <th>12th Marks</th>\n",
              "      <th>12th Division</th>\n",
              "      <th>AIEEE Rank</th>\n",
              "      <th>College</th>\n",
              "    </tr>\n",
              "  </thead>\n",
              "  <tbody>\n",
              "    <tr>\n",
              "      <th>0</th>\n",
              "      <td>2015</td>\n",
              "      <td>95</td>\n",
              "      <td>92</td>\n",
              "      <td>2</td>\n",
              "      <td>100</td>\n",
              "      <td>11</td>\n",
              "    </tr>\n",
              "    <tr>\n",
              "      <th>1</th>\n",
              "      <td>2015</td>\n",
              "      <td>75</td>\n",
              "      <td>88</td>\n",
              "      <td>3</td>\n",
              "      <td>1023</td>\n",
              "      <td>38</td>\n",
              "    </tr>\n",
              "    <tr>\n",
              "      <th>2</th>\n",
              "      <td>2015</td>\n",
              "      <td>83</td>\n",
              "      <td>84</td>\n",
              "      <td>6</td>\n",
              "      <td>2935</td>\n",
              "      <td>1</td>\n",
              "    </tr>\n",
              "    <tr>\n",
              "      <th>3</th>\n",
              "      <td>2015</td>\n",
              "      <td>75</td>\n",
              "      <td>91</td>\n",
              "      <td>8</td>\n",
              "      <td>5647</td>\n",
              "      <td>37</td>\n",
              "    </tr>\n",
              "    <tr>\n",
              "      <th>4</th>\n",
              "      <td>2015</td>\n",
              "      <td>94</td>\n",
              "      <td>94</td>\n",
              "      <td>9</td>\n",
              "      <td>3564</td>\n",
              "      <td>35</td>\n",
              "    </tr>\n",
              "  </tbody>\n",
              "</table>\n",
              "</div>"
            ],
            "text/plain": [
              "   Year  10th Marks  12th Marks  12th Division  AIEEE Rank  College\n",
              "0  2015          95          92              2         100       11\n",
              "1  2015          75          88              3        1023       38\n",
              "2  2015          83          84              6        2935        1\n",
              "3  2015          75          91              8        5647       37\n",
              "4  2015          94          94              9        3564       35"
            ]
          },
          "metadata": {
            "tags": []
          },
          "execution_count": 2
        }
      ]
    },
    {
      "cell_type": "code",
      "metadata": {
        "id": "H_crkyJ9YXic",
        "outputId": "13602891-2aaf-444f-e3fa-29fd28a75876",
        "colab": {
          "base_uri": "https://localhost:8080/",
          "height": 168
        }
      },
      "source": [
        "from sklearn import datasets, linear_model\n",
        "from sklearn.model_selection import train_test_split\n",
        "\n",
        "# Using only one feature\n",
        "x = df.iloc[:, 4].values\n",
        "y = df.iloc[:, 5].values\n",
        "\n",
        "# Split the data\n",
        "x_train, x_test, y_train, y_test = train_test_split(x, y, test_size= 0.2, random_state=0)\n",
        "\n",
        "print('Shape of X_train:: ', x_train.shape)\n",
        "print('Shape of y_train:: ', y_train.shape)\n",
        "print('Shape of X_test:: ', x_test.shape)\n",
        "print('Shape of y_test:: ', y_test.shape)\n",
        "\n",
        "x_train= x_train.reshape(-1, 1)\n",
        "x_test = x_test.reshape(-1, 1)\n",
        "\n",
        "print('\\nShape of X_train:: ', x_train.shape)\n",
        "print('Shape of y_train:: ', y_train.shape)\n",
        "print('Shape of X_test:: ', x_test.shape)\n",
        "print('Shape of y_test:: ', y_test.shape)"
      ],
      "execution_count": null,
      "outputs": [
        {
          "output_type": "stream",
          "text": [
            "Shape of X_train::  (803,)\n",
            "Shape of y_train::  (803,)\n",
            "Shape of X_test::  (201,)\n",
            "Shape of y_test::  (201,)\n",
            "\n",
            "Shape of X_train::  (803, 1)\n",
            "Shape of y_train::  (803,)\n",
            "Shape of X_test::  (201, 1)\n",
            "Shape of y_test::  (201,)\n"
          ],
          "name": "stdout"
        }
      ]
    },
    {
      "cell_type": "code",
      "metadata": {
        "id": "hmsySoxda7iu",
        "outputId": "d71077be-49a6-4246-a623-91522302f88f",
        "colab": {
          "base_uri": "https://localhost:8080/",
          "height": 628
        }
      },
      "source": [
        "model = linear_model.LinearRegression()\n",
        "model.fit(x_train, y_train)\n",
        "y_pred = model.predict(x_test)\n",
        "\n",
        "print('Coefficient:', model.coef_)\n",
        "print(\"RMSE: %.2f\" % np.sqrt(np.mean((model.predict(x_test) - y_test) ** 2)))\n",
        "\n",
        "plt.figure(figsize=(20,10))\n",
        "plt.scatter(x_test, y_test,  color='black')\n",
        "plt.plot(x_test, y_pred, color='blue', linewidth=3)\n",
        "\n",
        "plt.xlabel(\"AIEEE Rank\")\n",
        "plt.ylabel(\"College Code\")\n",
        "plt.title(\"Admission Prediction\")\n",
        "plt.show()"
      ],
      "execution_count": null,
      "outputs": [
        {
          "output_type": "stream",
          "text": [
            "Coefficient: [0.00021998]\n",
            "RMSE: 11.64\n"
          ],
          "name": "stdout"
        },
        {
          "output_type": "display_data",
          "data": {
            "image/png": "[encoded data removed]",
            "text/plain": [
              "<Figure size 1440x720 with 1 Axes>"
            ]
          },
          "metadata": {
            "tags": [],
            "needs_background": "light"
          }
        }
      ]
    },
    {
      "cell_type": "code",
      "metadata": {
        "id": "Jo0NPOUQZyOd",
        "outputId": "8ee05794-922f-4048-83ca-931dcc8ddb0a",
        "colab": {
          "base_uri": "https://localhost:8080/",
          "height": 84
        }
      },
      "source": [
        "col=df.columns.tolist()[4:5]\n",
        "print(col)\n",
        "usrip=[]\n",
        "for i in col:\n",
        "    print(\"==================================================\")\n",
        "    usrip.append(eval(input(i+\": \")))\n",
        "\n",
        "userpreddt=model.predict([usrip])\n",
        "print(\"You may have change to get entrance in: \",college[clg_code.index(int(userpreddt[0]))])"
      ],
      "execution_count": null,
      "outputs": [
        {
          "output_type": "stream",
          "text": [
            "['AIEEE Rank']\n",
            "==================================================\n",
            "AIEEE Rank: 1000\n",
            "You may have change to get entrance in:  IIT kharagpur\n"
          ],
          "name": "stdout"
        }
      ]
    },
    {
      "cell_type": "code",
      "metadata": {
        "id": "VTaIFQ4-hdJv"
      },
      "source": [
        "import tensorflow as tf\n",
        "from tensorflow import lite\n",
        "keras_file = \"linear.h5\"\n",
        "tf.keras.models.save_model(model, keras_file)\n",
        "# converter = lite.TFLiteConverter.from_keras_model(model)\n",
        "# tfmodel = converter.convert()\n",
        "# open(\"linear.tflite\", \"wb\").write(tfmodel)"
      ],
      "execution_count": null,
      "outputs": []
    }
  ]
}